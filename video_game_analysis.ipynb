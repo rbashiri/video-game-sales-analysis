{
 "cells": [
  {
   "cell_type": "code",
   "execution_count": 19,
   "id": "636d87d2",
   "metadata": {},
   "outputs": [],
   "source": [
    "# import librarties\n",
    "import pandas as pd \n",
    "import numpy as np\n",
    "import math as mt\n",
    "import os\n",
    "from pathlib import Path\n",
    "from scipy import stats as st\n",
    "from matplotlib import pyplot as plt\n",
    "\n",
    "# import data\n",
    "\n",
    "game_df=pd.read_csv(r\"C:/Users/robab/OneDrive/2025/Tripleten/Sprint 5/games.csv\", index_col=0)\n",
    "\n",
    "\n"
   ]
  },
  {
   "cell_type": "code",
   "execution_count": null,
   "id": "61d8ea54",
   "metadata": {},
   "outputs": [],
   "source": []
  }
 ],
 "metadata": {
  "kernelspec": {
   "display_name": "base",
   "language": "python",
   "name": "python3"
  },
  "language_info": {
   "codemirror_mode": {
    "name": "ipython",
    "version": 3
   },
   "file_extension": ".py",
   "mimetype": "text/x-python",
   "name": "python",
   "nbconvert_exporter": "python",
   "pygments_lexer": "ipython3",
   "version": "3.13.5"
  }
 },
 "nbformat": 4,
 "nbformat_minor": 5
}
