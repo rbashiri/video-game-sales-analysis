{
 "cells": [
  {
   "cell_type": "code",
   "execution_count": 112,
   "id": "636d87d2",
   "metadata": {},
   "outputs": [
    {
     "name": "stdout",
     "output_type": "stream",
     "text": [
      "                         Platform  Year_of_Release         Genre  NA_sales  \\\n",
      "Name                                                                         \n",
      "Wii Sports                    Wii           2006.0        Sports     41.36   \n",
      "Super Mario Bros.             NES           1985.0      Platform     29.08   \n",
      "Mario Kart Wii                Wii           2008.0        Racing     15.68   \n",
      "Wii Sports Resort             Wii           2009.0        Sports     15.61   \n",
      "Pokemon Red/Pokemon Blue       GB           1996.0  Role-Playing     11.27   \n",
      "\n",
      "                          EU_sales  JP_sales  Other_sales  Critic_Score  \\\n",
      "Name                                                                      \n",
      "Wii Sports                   28.96      3.77         8.45          76.0   \n",
      "Super Mario Bros.             3.58      6.81         0.77           NaN   \n",
      "Mario Kart Wii               12.76      3.79         3.29          82.0   \n",
      "Wii Sports Resort            10.93      3.28         2.95          80.0   \n",
      "Pokemon Red/Pokemon Blue      8.89     10.22         1.00           NaN   \n",
      "\n",
      "                         User_Score Rating  \n",
      "Name                                        \n",
      "Wii Sports                        8      E  \n",
      "Super Mario Bros.               NaN    NaN  \n",
      "Mario Kart Wii                  8.3      E  \n",
      "Wii Sports Resort                 8      E  \n",
      "Pokemon Red/Pokemon Blue        NaN    NaN  \n"
     ]
    }
   ],
   "source": [
    "# import librarties\n",
    "import pandas as pd \n",
    "import numpy as np\n",
    "import math as mt\n",
    "import os\n",
    "from pathlib import Path\n",
    "from scipy import stats as st\n",
    "from matplotlib import pyplot as plt\n",
    "\n",
    "# import data\n",
    "\n",
    "game_df=pd.read_csv(r\"C:/Users/robab/OneDrive/2025/Tripleten/Sprint 5/games.csv\", index_col=0)\n",
    "print(game_df.head())\n",
    "\n",
    "\n"
   ]
  },
  {
   "cell_type": "code",
   "execution_count": 113,
   "id": "a8a33143",
   "metadata": {},
   "outputs": [
    {
     "name": "stdout",
     "output_type": "stream",
     "text": [
      "<class 'pandas.core.frame.DataFrame'>\n",
      "Index: 16715 entries, Wii Sports to Winning Post 8 2016\n",
      "Data columns (total 10 columns):\n",
      " #   Column           Non-Null Count  Dtype  \n",
      "---  ------           --------------  -----  \n",
      " 0   Platform         16715 non-null  object \n",
      " 1   Year_of_Release  16446 non-null  float64\n",
      " 2   Genre            16713 non-null  object \n",
      " 3   NA_sales         16715 non-null  float64\n",
      " 4   EU_sales         16715 non-null  float64\n",
      " 5   JP_sales         16715 non-null  float64\n",
      " 6   Other_sales      16715 non-null  float64\n",
      " 7   Critic_Score     8137 non-null   float64\n",
      " 8   User_Score       10014 non-null  object \n",
      " 9   Rating           9949 non-null   object \n",
      "dtypes: float64(6), object(4)\n",
      "memory usage: 1.4+ MB\n",
      "None\n"
     ]
    }
   ],
   "source": [
    "print(game_df.info())"
   ]
  },
  {
   "cell_type": "code",
   "execution_count": 114,
   "id": "d123ab62",
   "metadata": {},
   "outputs": [
    {
     "name": "stdout",
     "output_type": "stream",
     "text": [
      "['Platform', 'Year_of_Release', 'Genre', 'NA_sales', 'EU_sales', 'JP_sales', 'Other_sales', 'Critic_Score', 'User_Score', 'Rating']\n"
     ]
    }
   ],
   "source": [
    "# check for white space\n",
    "print(game_df.columns.tolist())"
   ]
  },
  {
   "cell_type": "code",
   "execution_count": 115,
   "id": "79dbbece",
   "metadata": {},
   "outputs": [
    {
     "name": "stdout",
     "output_type": "stream",
     "text": [
      "       Year_of_Release      NA_sales      EU_sales      JP_sales  \\\n",
      "count     16446.000000  16715.000000  16715.000000  16715.000000   \n",
      "mean       2006.484616      0.263377      0.145060      0.077617   \n",
      "std           5.877050      0.813604      0.503339      0.308853   \n",
      "min        1980.000000      0.000000      0.000000      0.000000   \n",
      "25%        2003.000000      0.000000      0.000000      0.000000   \n",
      "50%        2007.000000      0.080000      0.020000      0.000000   \n",
      "75%        2010.000000      0.240000      0.110000      0.040000   \n",
      "max        2016.000000     41.360000     28.960000     10.220000   \n",
      "\n",
      "        Other_sales  Critic_Score  \n",
      "count  16715.000000   8137.000000  \n",
      "mean       0.047342     68.967679  \n",
      "std        0.186731     13.938165  \n",
      "min        0.000000     13.000000  \n",
      "25%        0.000000     60.000000  \n",
      "50%        0.010000     71.000000  \n",
      "75%        0.030000     79.000000  \n",
      "max       10.570000     98.000000  \n"
     ]
    }
   ],
   "source": [
    "print(game_df.describe())"
   ]
  },
  {
   "cell_type": "code",
   "execution_count": 116,
   "id": "61d8ea54",
   "metadata": {},
   "outputs": [
    {
     "name": "stdout",
     "output_type": "stream",
     "text": [
      "['platform', 'year_of_release', 'genre', 'na_sales', 'eu_sales', 'jp_sales', 'other_sales', 'critic_score', 'user_score', 'rating']\n"
     ]
    }
   ],
   "source": [
    "\n",
    "#Replace the column names (make them lowercase) and remove whie sapece .\n",
    "game_df.columns = (game_df.columns.\n",
    "                     str.strip()\n",
    "                     .str.lower())\n",
    "                     # check for white space\n",
    "print(game_df.columns.tolist())\n"
   ]
  },
  {
   "cell_type": "code",
   "execution_count": 117,
   "id": "b8d10c6a",
   "metadata": {},
   "outputs": [
    {
     "name": "stdout",
     "output_type": "stream",
     "text": [
      "1002\n",
      "                                                   platform  year_of_release  \\\n",
      "Name                                                                           \n",
      "Ready 2 Rumble Boxing                                    PS           1998.0   \n",
      "Tiger Woods PGA Tour 2000                                PS           1998.0   \n",
      "SpongeBob SquarePants: Game Boy Advance Video V...      GBA           2004.0   \n",
      "Fighting Force 2                                         PS           1999.0   \n",
      "Winning Post                                           SNES           1993.0   \n",
      "...                                                     ...              ...   \n",
      "Strawberry Nauts                                        PSV           2016.0   \n",
      "Aiyoku no Eustia                                        PSV           2014.0   \n",
      "Samurai Warriors: Sanada Maru                           PS3           2016.0   \n",
      "Haitaka no Psychedelica                                 PSV           2016.0   \n",
      "Spirits & Spells                                        GBA           2003.0   \n",
      "\n",
      "                                                        genre  na_sales  \\\n",
      "Name                                                                      \n",
      "Ready 2 Rumble Boxing                                  Sports      0.60   \n",
      "Tiger Woods PGA Tour 2000                              Sports      0.37   \n",
      "SpongeBob SquarePants: Game Boy Advance Video V...       Misc      0.46   \n",
      "Fighting Force 2                                       Action      0.31   \n",
      "Winning Post                                           Sports      0.00   \n",
      "...                                                       ...       ...   \n",
      "Strawberry Nauts                                    Adventure      0.00   \n",
      "Aiyoku no Eustia                                         Misc      0.00   \n",
      "Samurai Warriors: Sanada Maru                          Action      0.00   \n",
      "Haitaka no Psychedelica                             Adventure      0.00   \n",
      "Spirits & Spells                                     Platform      0.01   \n",
      "\n",
      "                                                    eu_sales  jp_sales  \\\n",
      "Name                                                                     \n",
      "Ready 2 Rumble Boxing                                   0.41      0.00   \n",
      "Tiger Woods PGA Tour 2000                               0.25      0.00   \n",
      "SpongeBob SquarePants: Game Boy Advance Video V...      0.17      0.00   \n",
      "Fighting Force 2                                        0.21      0.00   \n",
      "Winning Post                                            0.00      0.53   \n",
      "...                                                      ...       ...   \n",
      "Strawberry Nauts                                        0.00      0.01   \n",
      "Aiyoku no Eustia                                        0.00      0.01   \n",
      "Samurai Warriors: Sanada Maru                           0.00      0.01   \n",
      "Haitaka no Psychedelica                                 0.00      0.01   \n",
      "Spirits & Spells                                        0.00      0.00   \n",
      "\n",
      "                                                    other_sales  critic_score  \\\n",
      "Name                                                                            \n",
      "Ready 2 Rumble Boxing                                      0.07           NaN   \n",
      "Tiger Woods PGA Tour 2000                                  0.04           NaN   \n",
      "SpongeBob SquarePants: Game Boy Advance Video V...         0.01           NaN   \n",
      "Fighting Force 2                                           0.04           NaN   \n",
      "Winning Post                                               0.00           NaN   \n",
      "...                                                         ...           ...   \n",
      "Strawberry Nauts                                           0.00           NaN   \n",
      "Aiyoku no Eustia                                           0.00           NaN   \n",
      "Samurai Warriors: Sanada Maru                              0.00           NaN   \n",
      "Haitaka no Psychedelica                                    0.00           NaN   \n",
      "Spirits & Spells                                           0.00           NaN   \n",
      "\n",
      "                                                   user_score rating  \n",
      "Name                                                                  \n",
      "Ready 2 Rumble Boxing                                     NaN    NaN  \n",
      "Tiger Woods PGA Tour 2000                                 NaN    NaN  \n",
      "SpongeBob SquarePants: Game Boy Advance Video V...        NaN    NaN  \n",
      "Fighting Force 2                                          NaN    NaN  \n",
      "Winning Post                                              NaN    NaN  \n",
      "...                                                       ...    ...  \n",
      "Strawberry Nauts                                          NaN    NaN  \n",
      "Aiyoku no Eustia                                          NaN    NaN  \n",
      "Samurai Warriors: Sanada Maru                             NaN    NaN  \n",
      "Haitaka no Psychedelica                                   NaN    NaN  \n",
      "Spirits & Spells                                          NaN    NaN  \n",
      "\n",
      "[1002 rows x 10 columns]\n",
      "0\n"
     ]
    }
   ],
   "source": [
    "# Check for duplicate entries\n",
    "print(game_df.duplicated().sum())  # Number of duplicate rows\n",
    "# View duplicate rows\n",
    "print(game_df[game_df.duplicated()])  # Added missing closing parenthesis\n",
    "# Remove duplicates\n",
    "game_df = game_df.drop_duplicates().reset_index(drop=True)\n",
    "# Confirm removal\n",
    "print(game_df.duplicated().sum())  # Should return 0\n"
   ]
  },
  {
   "cell_type": "code",
   "execution_count": 118,
   "id": "d976762c",
   "metadata": {},
   "outputs": [
    {
     "name": "stdout",
     "output_type": "stream",
     "text": [
      "0\n",
      "      platform  year_of_release         genre  na_sales  eu_sales  jp_sales  \\\n",
      "5971       PS2           2004.0      Platform      0.14      0.11      0.00   \n",
      "2317       PS2           2003.0        Sports      0.44      0.34      0.00   \n",
      "3984        GC           2004.0        Sports      0.38      0.10      0.00   \n",
      "10104      SAT           1997.0          Misc      0.00      0.00      0.11   \n",
      "3977      X360           2006.0        Racing      0.42      0.04      0.00   \n",
      "6018       PS2           2005.0  Role-Playing      0.07      0.05      0.15   \n",
      "12118      Wii           2009.0          Misc      0.06      0.00      0.00   \n",
      "7114       PSP           2005.0        Sports      0.20      0.00      0.00   \n",
      "4694       PS3           2014.0        Racing      0.07      0.26      0.02   \n",
      "9634      SNES           1996.0  Role-Playing      0.00      0.00      0.12   \n",
      "\n",
      "       other_sales  critic_score user_score rating  \n",
      "5971          0.04          68.0        8.5      E  \n",
      "2317          0.11          68.0        6.6      E  \n",
      "3984          0.01          82.0        8.9      T  \n",
      "10104         0.00           NaN        NaN    NaN  \n",
      "3977          0.04          89.0        8.1   E10+  \n",
      "6018          0.02          81.0        7.3      T  \n",
      "12118         0.00           NaN        tbd      E  \n",
      "7114          0.02          75.0        8.5      E  \n",
      "4694          0.06          62.0        4.1      E  \n",
      "9634          0.00           NaN        NaN    NaN  \n"
     ]
    }
   ],
   "source": [
    "# Confirm removal\n",
    "print(game_df.duplicated().sum())  # Should return 0\n",
    "# Print a sample of data for users\n",
    "\n",
    "print(game_df.sample(10, random_state = 55))"
   ]
  },
  {
   "cell_type": "code",
   "execution_count": 119,
   "id": "9da3ca74",
   "metadata": {},
   "outputs": [
    {
     "name": "stdout",
     "output_type": "stream",
     "text": [
      "platform              0\n",
      "year_of_release     267\n",
      "genre                 2\n",
      "na_sales              0\n",
      "eu_sales              0\n",
      "jp_sales              0\n",
      "other_sales           0\n",
      "critic_score       7576\n",
      "user_score         5776\n",
      "rating             5842\n",
      "dtype: int64\n"
     ]
    }
   ],
   "source": [
    "# to find missing values\n",
    "print(game_df.isnull().sum())\n"
   ]
  },
  {
   "cell_type": "code",
   "execution_count": 120,
   "id": "df10e0ee",
   "metadata": {},
   "outputs": [
    {
     "name": "stdout",
     "output_type": "stream",
     "text": [
      "platform            object\n",
      "year_of_release    float64\n",
      "genre               object\n",
      "na_sales           float64\n",
      "eu_sales           float64\n",
      "jp_sales           float64\n",
      "other_sales        float64\n",
      "critic_score       float64\n",
      "user_score          object\n",
      "rating              object\n",
      "dtype: object\n"
     ]
    }
   ],
   "source": [
    "# check for data types\n",
    "print(game_df.dtypes)\n"
   ]
  },
  {
   "cell_type": "code",
   "execution_count": 121,
   "id": "4853cfee",
   "metadata": {},
   "outputs": [
    {
     "name": "stdout",
     "output_type": "stream",
     "text": [
      "Unique values in user_score:\n",
      "user_score\n",
      "NaN    5776\n",
      "tbd    2347\n",
      "7.8     324\n",
      "8       290\n",
      "8.2     282\n",
      "       ... \n",
      "1.3       2\n",
      "1         2\n",
      "0.9       2\n",
      "0         1\n",
      "9.7       1\n",
      "Name: count, Length: 97, dtype: int64\n",
      "float64\n"
     ]
    }
   ],
   "source": [
    "# To find what type of data dealing in each colum\n",
    "print(\"Unique values in user_score:\")\n",
    "print(game_df['user_score'].value_counts(dropna=False))\n",
    "\n",
    "#Option A: Convert to float64 (recommended for analysis):\n",
    "# Replace 'tbd' with NaN, then convert to float\n",
    "# Good for mathematical operations and statistical analysis\n",
    "game_df['user_score'] = game_df['user_score'].replace('tbd', np.nan).astype('float64')\n",
    "print(game_df['user_score'].dtype)  # Should now be float64\n",
    "\n"
   ]
  },
  {
   "cell_type": "markdown",
   "id": "64455ec0",
   "metadata": {},
   "source": [
    "###  Pay attention to the abbreviation TBD (to be determined). Specify how you intend to handle such cases.\n",
    "#### 1- First of all TBD represents missing information, just like NaN (Not a Number\n",
    "#### 2- Pandas handles NaN values consistently across all operations\n",
    "#### 3- my suggestion is converted TBD to NaN and  then to float64 \n",
    "\n",
    "#### Converting to float64 enables proper analysis:\n",
    "\n",
    "   1- We  can calculate averages, medians, and other statistics\n",
    "   2- we can create visualizations and correlations\n",
    "   3- Mathematical operations work correctly\n",
    " 4- Pandas automatically excludes NaN values from calculations\n",
    "\n",
    "\n",
    "\n"
   ]
  },
  {
   "cell_type": "code",
   "execution_count": null,
   "id": "9466f26a",
   "metadata": {},
   "outputs": [],
   "source": [
    "# handel missing values in df\n",
    "print(game_df.isnull().sum())\n"
   ]
  }
 ],
 "metadata": {
  "kernelspec": {
   "display_name": "base",
   "language": "python",
   "name": "python3"
  },
  "language_info": {
   "codemirror_mode": {
    "name": "ipython",
    "version": 3
   },
   "file_extension": ".py",
   "mimetype": "text/x-python",
   "name": "python",
   "nbconvert_exporter": "python",
   "pygments_lexer": "ipython3",
   "version": "3.13.5"
  }
 },
 "nbformat": 4,
 "nbformat_minor": 5
}
