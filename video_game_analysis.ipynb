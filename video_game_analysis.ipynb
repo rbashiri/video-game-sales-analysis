{
 "cells": [
  {
   "cell_type": "code",
   "execution_count": 27,
   "id": "636d87d2",
   "metadata": {},
   "outputs": [
    {
     "name": "stdout",
     "output_type": "stream",
     "text": [
      "                         Platform  Year_of_Release         Genre  NA_sales  \\\n",
      "Name                                                                         \n",
      "Wii Sports                    Wii           2006.0        Sports     41.36   \n",
      "Super Mario Bros.             NES           1985.0      Platform     29.08   \n",
      "Mario Kart Wii                Wii           2008.0        Racing     15.68   \n",
      "Wii Sports Resort             Wii           2009.0        Sports     15.61   \n",
      "Pokemon Red/Pokemon Blue       GB           1996.0  Role-Playing     11.27   \n",
      "\n",
      "                          EU_sales  JP_sales  Other_sales  Critic_Score  \\\n",
      "Name                                                                      \n",
      "Wii Sports                   28.96      3.77         8.45          76.0   \n",
      "Super Mario Bros.             3.58      6.81         0.77           NaN   \n",
      "Mario Kart Wii               12.76      3.79         3.29          82.0   \n",
      "Wii Sports Resort            10.93      3.28         2.95          80.0   \n",
      "Pokemon Red/Pokemon Blue      8.89     10.22         1.00           NaN   \n",
      "\n",
      "                         User_Score Rating  \n",
      "Name                                        \n",
      "Wii Sports                        8      E  \n",
      "Super Mario Bros.               NaN    NaN  \n",
      "Mario Kart Wii                  8.3      E  \n",
      "Wii Sports Resort                 8      E  \n",
      "Pokemon Red/Pokemon Blue        NaN    NaN  \n"
     ]
    }
   ],
   "source": [
    "# import librarties\n",
    "import pandas as pd \n",
    "import numpy as np\n",
    "import math as mt\n",
    "import os\n",
    "from pathlib import Path\n",
    "from scipy import stats as st\n",
    "from matplotlib import pyplot as plt\n",
    "\n",
    "# import data\n",
    "\n",
    "game_df=pd.read_csv(r\"C:/Users/robab/OneDrive/2025/Tripleten/Sprint 5/games.csv\", index_col=0)\n",
    "print(game_df.head())\n",
    "\n",
    "\n"
   ]
  },
  {
   "cell_type": "code",
   "execution_count": 28,
   "id": "a8a33143",
   "metadata": {},
   "outputs": [
    {
     "name": "stdout",
     "output_type": "stream",
     "text": [
      "<class 'pandas.core.frame.DataFrame'>\n",
      "Index: 16715 entries, Wii Sports to Winning Post 8 2016\n",
      "Data columns (total 10 columns):\n",
      " #   Column           Non-Null Count  Dtype  \n",
      "---  ------           --------------  -----  \n",
      " 0   Platform         16715 non-null  object \n",
      " 1   Year_of_Release  16446 non-null  float64\n",
      " 2   Genre            16713 non-null  object \n",
      " 3   NA_sales         16715 non-null  float64\n",
      " 4   EU_sales         16715 non-null  float64\n",
      " 5   JP_sales         16715 non-null  float64\n",
      " 6   Other_sales      16715 non-null  float64\n",
      " 7   Critic_Score     8137 non-null   float64\n",
      " 8   User_Score       10014 non-null  object \n",
      " 9   Rating           9949 non-null   object \n",
      "dtypes: float64(6), object(4)\n",
      "memory usage: 1.4+ MB\n",
      "None\n"
     ]
    }
   ],
   "source": [
    "print(game_df.info())"
   ]
  },
  {
   "cell_type": "code",
   "execution_count": 29,
   "id": "d123ab62",
   "metadata": {},
   "outputs": [
    {
     "name": "stdout",
     "output_type": "stream",
     "text": [
      "['Platform', 'Year_of_Release', 'Genre', 'NA_sales', 'EU_sales', 'JP_sales', 'Other_sales', 'Critic_Score', 'User_Score', 'Rating']\n"
     ]
    }
   ],
   "source": [
    "# check for white space\n",
    "print(game_df.columns.tolist())"
   ]
  },
  {
   "cell_type": "code",
   "execution_count": 30,
   "id": "79dbbece",
   "metadata": {},
   "outputs": [
    {
     "name": "stdout",
     "output_type": "stream",
     "text": [
      "       Year_of_Release      NA_sales      EU_sales      JP_sales  \\\n",
      "count     16446.000000  16715.000000  16715.000000  16715.000000   \n",
      "mean       2006.484616      0.263377      0.145060      0.077617   \n",
      "std           5.877050      0.813604      0.503339      0.308853   \n",
      "min        1980.000000      0.000000      0.000000      0.000000   \n",
      "25%        2003.000000      0.000000      0.000000      0.000000   \n",
      "50%        2007.000000      0.080000      0.020000      0.000000   \n",
      "75%        2010.000000      0.240000      0.110000      0.040000   \n",
      "max        2016.000000     41.360000     28.960000     10.220000   \n",
      "\n",
      "        Other_sales  Critic_Score  \n",
      "count  16715.000000   8137.000000  \n",
      "mean       0.047342     68.967679  \n",
      "std        0.186731     13.938165  \n",
      "min        0.000000     13.000000  \n",
      "25%        0.000000     60.000000  \n",
      "50%        0.010000     71.000000  \n",
      "75%        0.030000     79.000000  \n",
      "max       10.570000     98.000000  \n"
     ]
    }
   ],
   "source": [
    "print(game_df.describe())"
   ]
  },
  {
   "cell_type": "code",
   "execution_count": 33,
   "id": "61d8ea54",
   "metadata": {},
   "outputs": [
    {
     "name": "stdout",
     "output_type": "stream",
     "text": [
      "['platform', 'year_of_release', 'genre', 'na_sales', 'eu_sales', 'jp_sales', 'other_sales', 'critic_score', 'user_score', 'rating']\n"
     ]
    }
   ],
   "source": [
    "\n",
    "#Replace the column names (make them lowercase) and remove whie sapece .\n",
    "game_df.columns = (game_df.columns.\n",
    "                     str.strip()\n",
    "                     .str.lower())\n",
    "                     # check for white space\n",
    "print(game_df.columns.tolist())\n"
   ]
  }
 ],
 "metadata": {
  "kernelspec": {
   "display_name": "base",
   "language": "python",
   "name": "python3"
  },
  "language_info": {
   "codemirror_mode": {
    "name": "ipython",
    "version": 3
   },
   "file_extension": ".py",
   "mimetype": "text/x-python",
   "name": "python",
   "nbconvert_exporter": "python",
   "pygments_lexer": "ipython3",
   "version": "3.13.5"
  }
 },
 "nbformat": 4,
 "nbformat_minor": 5
}
